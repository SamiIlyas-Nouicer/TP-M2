{
 "cells": [
  {
   "cell_type": "code",
   "execution_count": 10,
   "metadata": {},
   "outputs": [
    {
     "name": "stderr",
     "output_type": "stream",
     "text": [
      "[nltk_data] Downloading package stopwords to /home/sami/nltk_data...\n",
      "[nltk_data]   Package stopwords is already up-to-date!\n"
     ]
    },
    {
     "data": {
      "text/plain": [
       "True"
      ]
     },
     "execution_count": 10,
     "metadata": {},
     "output_type": "execute_result"
    }
   ],
   "source": [
    "import nltk as nltk\n",
    "import os\n",
    "import nltk\n",
    "from nltk.corpus import stopwords\n",
    "from nltk.tokenize import RegexpTokenizer\n",
    "from nltk.stem import PorterStemmer, LancasterStemmer\n",
    "nltk.download('stopwords')\n"
   ]
  },
  {
   "cell_type": "code",
   "execution_count": 11,
   "metadata": {},
   "outputs": [],
   "source": [
    "folder_path = \"./Collections\"\n",
    "result_path = \"./results\""
   ]
  },
  {
   "cell_type": "code",
   "execution_count": 12,
   "metadata": {},
   "outputs": [],
   "source": [
    "porter = PorterStemmer()\n",
    "lancaster = LancasterStemmer()\n",
    "\n",
    "stop_words = set(stopwords.words('english'))"
   ]
  },
  {
   "cell_type": "code",
   "execution_count": 13,
   "metadata": {},
   "outputs": [],
   "source": [
    "def preprocess(folder_path):\n",
    "\n",
    "    porter = PorterStemmer()\n",
    "    lancaster = LancasterStemmer()\n",
    "    stop_words = set(stopwords.words('english'))\n",
    "    tokenizer = RegexpTokenizer(r'\\w+')\n",
    "\n",
    "    descriptors = []\n",
    "    inverses = {}\n",
    "\n",
    "    for doc_num, filename in enumerate(os.listdir(folder_path), start=1):\n",
    "        if filename.endswith(\".txt\"):\n",
    "            with open(os.path.join(folder_path, filename), 'r', encoding='utf-8') as file:\n",
    "                text = file.read().lower()  \n",
    "\n",
    "                tokens = set(text.split() + tokenizer.tokenize(text))\n",
    "                tokens = [token for token in tokens if token not in stop_words]\n",
    "\n",
    "\n",
    "                for term in tokens:\n",
    "                    descriptors.append(f\"{doc_num} {term}\")\n",
    "                    inverses.setdefault(term, set()).add(doc_num)\n",
    "\n",
    "    with open(os.path.join(result_path, \"descriptorsSplit.txt\"), 'w', encoding='utf-8') as desc_file:\n",
    "        desc_file.write(\"\\n\".join(descriptors))\n",
    "\n",
    "    with open(os.path.join(result_path, \"inversesSplit.txt\"), 'w', encoding='utf-8') as inv_file:\n",
    "        for term, doc_nums in sorted(inverses.items()):\n",
    "            for doc_num in sorted(doc_nums):\n",
    "                inv_file.write(f\"{term} {doc_num}\\n\")\n",
    "                \n",
    "    for doc_num, filename in enumerate(os.listdir(folder_path), start=1):\n",
    "        if filename.endswith(\".txt\"):\n",
    "            with open(os.path.join(folder_path, filename), 'r', encoding='utf-8') as file:\n",
    "                text = file.read().lower()  \n",
    "\n",
    "                tokens = set(text.split() + tokenizer.tokenize(text))\n",
    "                tokens = [token for token in tokens if token not in stop_words]\n",
    "                tokens = [porter.stem(token) for token in tokens]\n",
    "\n",
    "                for term in tokens:\n",
    "                    descriptors.append(f\"{doc_num} {term}\")\n",
    "                    inverses.setdefault(term, set()).add(doc_num)\n",
    "\n",
    "    with open(os.path.join(result_path, \"descriptorsSplitPorter.txt\"), 'w', encoding='utf-8') as desc_file:\n",
    "        desc_file.write(\"\\n\".join(descriptors))\n",
    "\n",
    "    with open(os.path.join(result_path, \"inversesSplitPorter.txt\"), 'w', encoding='utf-8') as inv_file:\n",
    "        for term, doc_nums in sorted(inverses.items()):\n",
    "            for doc_num in sorted(doc_nums):\n",
    "                inv_file.write(f\"{term} {doc_num}\\n\")\n",
    "\n",
    "    for doc_num, filename in enumerate(os.listdir(folder_path), start=1):\n",
    "        if filename.endswith(\".txt\"):\n",
    "            with open(os.path.join(folder_path, filename), 'r', encoding='utf-8') as file:\n",
    "                text = file.read().lower()  \n",
    "\n",
    "                tokens = set(text.split() + tokenizer.tokenize(text))\n",
    "                tokens = [token for token in tokens if token not in stop_words]\n",
    "                tokens = [lancaster.stem(token) for token in tokens]\n",
    "\n",
    "                for term in tokens:\n",
    "                    descriptors.append(f\"{doc_num} {term}\")\n",
    "                    inverses.setdefault(term, set()).add(doc_num)\n",
    "\n",
    "    with open(os.path.join(result_path, \"descriptorsSplitLancaster.txt\"), 'w', encoding='utf-8') as desc_file:\n",
    "        desc_file.write(\"\\n\".join(descriptors))\n",
    "\n",
    "    with open(os.path.join(result_path, \"inversesSplitLancaster.txt\"), 'w', encoding='utf-8') as inv_file:\n",
    "        for term, doc_nums in sorted(inverses.items()):\n",
    "            for doc_num in sorted(doc_nums):\n",
    "                inv_file.write(f\"{term} {doc_num}\\n\")"
   ]
  },
  {
   "cell_type": "code",
   "execution_count": 15,
   "metadata": {},
   "outputs": [
    {
     "ename": "FileNotFoundError",
     "evalue": "[Errno 2] No such file or directory: './results/descriptorsSplit.txt'",
     "output_type": "error",
     "traceback": [
      "\u001b[0;31m---------------------------------------------------------------------------\u001b[0m",
      "\u001b[0;31mFileNotFoundError\u001b[0m                         Traceback (most recent call last)",
      "Cell \u001b[0;32mIn[15], line 1\u001b[0m\n\u001b[0;32m----> 1\u001b[0m \u001b[43mpreprocess\u001b[49m\u001b[43m(\u001b[49m\u001b[43mfolder_path\u001b[49m\u001b[43m)\u001b[49m\n",
      "Cell \u001b[0;32mIn[13], line 24\u001b[0m, in \u001b[0;36mpreprocess\u001b[0;34m(folder_path)\u001b[0m\n\u001b[1;32m     21\u001b[0m                 descriptors\u001b[38;5;241m.\u001b[39mappend(\u001b[38;5;124mf\u001b[39m\u001b[38;5;124m\"\u001b[39m\u001b[38;5;132;01m{\u001b[39;00mdoc_num\u001b[38;5;132;01m}\u001b[39;00m\u001b[38;5;124m \u001b[39m\u001b[38;5;132;01m{\u001b[39;00mterm\u001b[38;5;132;01m}\u001b[39;00m\u001b[38;5;124m\"\u001b[39m)\n\u001b[1;32m     22\u001b[0m                 inverses\u001b[38;5;241m.\u001b[39msetdefault(term, \u001b[38;5;28mset\u001b[39m())\u001b[38;5;241m.\u001b[39madd(doc_num)\n\u001b[0;32m---> 24\u001b[0m \u001b[38;5;28;01mwith\u001b[39;00m \u001b[38;5;28;43mopen\u001b[39;49m\u001b[43m(\u001b[49m\u001b[43mos\u001b[49m\u001b[38;5;241;43m.\u001b[39;49m\u001b[43mpath\u001b[49m\u001b[38;5;241;43m.\u001b[39;49m\u001b[43mjoin\u001b[49m\u001b[43m(\u001b[49m\u001b[43mresult_path\u001b[49m\u001b[43m,\u001b[49m\u001b[43m \u001b[49m\u001b[38;5;124;43m\"\u001b[39;49m\u001b[38;5;124;43mdescriptorsSplit.txt\u001b[39;49m\u001b[38;5;124;43m\"\u001b[39;49m\u001b[43m)\u001b[49m\u001b[43m,\u001b[49m\u001b[43m \u001b[49m\u001b[38;5;124;43m'\u001b[39;49m\u001b[38;5;124;43mw\u001b[39;49m\u001b[38;5;124;43m'\u001b[39;49m\u001b[43m,\u001b[49m\u001b[43m \u001b[49m\u001b[43mencoding\u001b[49m\u001b[38;5;241;43m=\u001b[39;49m\u001b[38;5;124;43m'\u001b[39;49m\u001b[38;5;124;43mutf-8\u001b[39;49m\u001b[38;5;124;43m'\u001b[39;49m\u001b[43m)\u001b[49m \u001b[38;5;28;01mas\u001b[39;00m desc_file:\n\u001b[1;32m     25\u001b[0m     desc_file\u001b[38;5;241m.\u001b[39mwrite(\u001b[38;5;124m\"\u001b[39m\u001b[38;5;130;01m\\n\u001b[39;00m\u001b[38;5;124m\"\u001b[39m\u001b[38;5;241m.\u001b[39mjoin(descriptors))\n\u001b[1;32m     27\u001b[0m \u001b[38;5;28;01mwith\u001b[39;00m \u001b[38;5;28mopen\u001b[39m(os\u001b[38;5;241m.\u001b[39mpath\u001b[38;5;241m.\u001b[39mjoin(result_path, \u001b[38;5;124m\"\u001b[39m\u001b[38;5;124minversesSplit.txt\u001b[39m\u001b[38;5;124m\"\u001b[39m), \u001b[38;5;124m'\u001b[39m\u001b[38;5;124mw\u001b[39m\u001b[38;5;124m'\u001b[39m, encoding\u001b[38;5;241m=\u001b[39m\u001b[38;5;124m'\u001b[39m\u001b[38;5;124mutf-8\u001b[39m\u001b[38;5;124m'\u001b[39m) \u001b[38;5;28;01mas\u001b[39;00m inv_file:\n",
      "File \u001b[0;32m~/myenv/lib/python3.12/site-packages/IPython/core/interactiveshell.py:324\u001b[0m, in \u001b[0;36m_modified_open\u001b[0;34m(file, *args, **kwargs)\u001b[0m\n\u001b[1;32m    317\u001b[0m \u001b[38;5;28;01mif\u001b[39;00m file \u001b[38;5;129;01min\u001b[39;00m {\u001b[38;5;241m0\u001b[39m, \u001b[38;5;241m1\u001b[39m, \u001b[38;5;241m2\u001b[39m}:\n\u001b[1;32m    318\u001b[0m     \u001b[38;5;28;01mraise\u001b[39;00m \u001b[38;5;167;01mValueError\u001b[39;00m(\n\u001b[1;32m    319\u001b[0m         \u001b[38;5;124mf\u001b[39m\u001b[38;5;124m\"\u001b[39m\u001b[38;5;124mIPython won\u001b[39m\u001b[38;5;124m'\u001b[39m\u001b[38;5;124mt let you open fd=\u001b[39m\u001b[38;5;132;01m{\u001b[39;00mfile\u001b[38;5;132;01m}\u001b[39;00m\u001b[38;5;124m by default \u001b[39m\u001b[38;5;124m\"\u001b[39m\n\u001b[1;32m    320\u001b[0m         \u001b[38;5;124m\"\u001b[39m\u001b[38;5;124mas it is likely to crash IPython. If you know what you are doing, \u001b[39m\u001b[38;5;124m\"\u001b[39m\n\u001b[1;32m    321\u001b[0m         \u001b[38;5;124m\"\u001b[39m\u001b[38;5;124myou can use builtins\u001b[39m\u001b[38;5;124m'\u001b[39m\u001b[38;5;124m open.\u001b[39m\u001b[38;5;124m\"\u001b[39m\n\u001b[1;32m    322\u001b[0m     )\n\u001b[0;32m--> 324\u001b[0m \u001b[38;5;28;01mreturn\u001b[39;00m \u001b[43mio_open\u001b[49m\u001b[43m(\u001b[49m\u001b[43mfile\u001b[49m\u001b[43m,\u001b[49m\u001b[43m \u001b[49m\u001b[38;5;241;43m*\u001b[39;49m\u001b[43margs\u001b[49m\u001b[43m,\u001b[49m\u001b[43m \u001b[49m\u001b[38;5;241;43m*\u001b[39;49m\u001b[38;5;241;43m*\u001b[39;49m\u001b[43mkwargs\u001b[49m\u001b[43m)\u001b[49m\n",
      "\u001b[0;31mFileNotFoundError\u001b[0m: [Errno 2] No such file or directory: './results/descriptorsSplit.txt'"
     ]
    }
   ],
   "source": [
    "preprocess(folder_path)"
   ]
  }
 ],
 "metadata": {
  "kernelspec": {
   "display_name": "Python 3",
   "language": "python",
   "name": "python3"
  },
  "language_info": {
   "codemirror_mode": {
    "name": "ipython",
    "version": 3
   },
   "file_extension": ".py",
   "mimetype": "text/x-python",
   "name": "python",
   "nbconvert_exporter": "python",
   "pygments_lexer": "ipython3",
   "version": "3.12.7"
  }
 },
 "nbformat": 4,
 "nbformat_minor": 2
}
