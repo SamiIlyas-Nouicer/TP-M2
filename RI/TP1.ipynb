{
 "cells": [
  {
   "cell_type": "code",
   "execution_count": 53,
   "metadata": {},
   "outputs": [
    {
     "name": "stderr",
     "output_type": "stream",
     "text": [
      "[nltk_data] Downloading package stopwords to /home/sami/nltk_data...\n",
      "[nltk_data]   Package stopwords is already up-to-date!\n"
     ]
    },
    {
     "data": {
      "text/plain": [
       "True"
      ]
     },
     "execution_count": 53,
     "metadata": {},
     "output_type": "execute_result"
    }
   ],
   "source": [
    "import nltk as nltk\n",
    "import os\n",
    "import nltk\n",
    "from nltk.corpus import stopwords\n",
    "from nltk.tokenize import RegexpTokenizer\n",
    "from nltk.stem import PorterStemmer, LancasterStemmer\n",
    "nltk.download('stopwords')\n"
   ]
  },
  {
   "cell_type": "code",
   "execution_count": 49,
   "metadata": {},
   "outputs": [],
   "source": [
    "folder_path = \"./Collection\"\n",
    "result_path = \"./result2\""
   ]
  },
  {
   "cell_type": "code",
   "execution_count": 50,
   "metadata": {},
   "outputs": [],
   "source": [
    "porter = PorterStemmer()\n",
    "lancaster = LancasterStemmer()\n",
    "\n",
    "stop_words = set(stopwords.words('english'))"
   ]
  },
  {
   "cell_type": "code",
   "execution_count": 51,
   "metadata": {},
   "outputs": [
    {
     "name": "stderr",
     "output_type": "stream",
     "text": [
      "<>:78: SyntaxWarning: invalid escape sequence '\\.'\n",
      "<>:100: SyntaxWarning: invalid escape sequence '\\.'\n",
      "<>:78: SyntaxWarning: invalid escape sequence '\\.'\n",
      "<>:100: SyntaxWarning: invalid escape sequence '\\.'\n",
      "/tmp/ipykernel_33473/775277597.py:78: SyntaxWarning: invalid escape sequence '\\.'\n",
      "  tokens = nltk.RegexpTokenizer('(?:[A-Z]\\.)+|\\d+(?:\\.\\d+)?DA?|\\w+|\\.{3}').tokenize(text)\n",
      "/tmp/ipykernel_33473/775277597.py:100: SyntaxWarning: invalid escape sequence '\\.'\n",
      "  tokens = nltk.RegexpTokenizer('(?:[A-Z]\\.)+|\\d+(?:\\.\\d+)?DA?|\\w+|\\.{3}').tokenize(text)\n"
     ]
    }
   ],
   "source": [
    "def preprocess(folder_path):\n",
    "\n",
    "    porter = PorterStemmer()\n",
    "    lancaster = LancasterStemmer()\n",
    "    stop_words = set(stopwords.words('english'))\n",
    "\n",
    "    descriptors = []\n",
    "    inverses = {}\n",
    "\n",
    "    for doc_num, filename in enumerate(os.listdir(folder_path), start=1):\n",
    "        if filename.endswith(\".txt\"):\n",
    "            with open(os.path.join(folder_path, filename), 'r', encoding='utf-8') as file:\n",
    "                text = file.read().lower()  \n",
    "\n",
    "                tokens = text.split() \n",
    "                tokens = [token for token in tokens if token not in stop_words]\n",
    "\n",
    "\n",
    "                for term in tokens:\n",
    "                    descriptors.append(f\"{doc_num} {term}\")\n",
    "                    inverses.setdefault(term, set()).add(doc_num)\n",
    "\n",
    "    with open(os.path.join(result_path, \"descriptorsSplit.txt\"), 'w', encoding='utf-8') as desc_file:\n",
    "        desc_file.write(\"\\n\".join(descriptors))\n",
    "\n",
    "    with open(os.path.join(result_path, \"inversesSplit.txt\"), 'w', encoding='utf-8') as inv_file:\n",
    "        for term, doc_nums in sorted(inverses.items()):\n",
    "            for doc_num in sorted(doc_nums):\n",
    "                inv_file.write(f\"{term} {doc_num}\\n\")\n",
    "                \n",
    "    for doc_num, filename in enumerate(os.listdir(folder_path), start=1):\n",
    "        if filename.endswith(\".txt\"):\n",
    "            with open(os.path.join(folder_path, filename), 'r', encoding='utf-8') as file:\n",
    "                text = file.read().lower()  \n",
    "\n",
    "                tokens = text.split() \n",
    "                tokens = [token for token in tokens if token not in stop_words]\n",
    "                tokens = [porter.stem(token) for token in tokens]\n",
    "\n",
    "                for term in tokens:\n",
    "                    descriptors.append(f\"{doc_num} {term}\")\n",
    "                    inverses.setdefault(term, set()).add(doc_num)\n",
    "\n",
    "    with open(os.path.join(result_path, \"descriptorsSplitPorter.txt\"), 'w', encoding='utf-8') as desc_file:\n",
    "        desc_file.write(\"\\n\".join(descriptors))\n",
    "\n",
    "    with open(os.path.join(result_path, \"inversesSplitPorter.txt\"), 'w', encoding='utf-8') as inv_file:\n",
    "        for term, doc_nums in sorted(inverses.items()):\n",
    "            for doc_num in sorted(doc_nums):\n",
    "                inv_file.write(f\"{term} {doc_num}\\n\")\n",
    "\n",
    "    for doc_num, filename in enumerate(os.listdir(folder_path), start=1):\n",
    "        if filename.endswith(\".txt\"):\n",
    "            with open(os.path.join(folder_path, filename), 'r', encoding='utf-8') as file:\n",
    "                text = file.read().lower()  \n",
    "\n",
    "                tokens = text.split() \n",
    "                tokens = [token for token in tokens if token not in stop_words]\n",
    "                tokens = [lancaster.stem(token) for token in tokens]\n",
    "\n",
    "                for term in tokens:\n",
    "                    descriptors.append(f\"{doc_num} {term}\")\n",
    "                    inverses.setdefault(term, set()).add(doc_num)\n",
    "\n",
    "    with open(os.path.join(result_path, \"descriptorsSplitLancaster.txt\"), 'w', encoding='utf-8') as desc_file:\n",
    "        desc_file.write(\"\\n\".join(descriptors))\n",
    "\n",
    "    with open(os.path.join(result_path, \"inversesSplitLancaster.txt\"), 'w', encoding='utf-8') as inv_file:\n",
    "        for term, doc_nums in sorted(inverses.items()):\n",
    "            for doc_num in sorted(doc_nums):\n",
    "                inv_file.write(f\"{term} {doc_num}\\n\")\n",
    "                \n",
    "    for doc_num, filename in enumerate(os.listdir(folder_path), start=1):\n",
    "        if filename.endswith(\".txt\"):\n",
    "            with open(os.path.join(folder_path, filename), 'r', encoding='utf-8') as file:\n",
    "                text = file.read().lower()  \n",
    "\n",
    "                tokens = nltk.RegexpTokenizer('(?:[A-Z]\\.)+|\\d+(?:\\.\\d+)?DA?|\\w+|\\.{3}').tokenize(text)\n",
    "                tokens = [token for token in tokens if token not in stop_words]\n",
    "                tokens = [lancaster.stem(token) for token in tokens]\n",
    "\n",
    "                for term in tokens:\n",
    "                    descriptors.append(f\"{doc_num} {term}\")\n",
    "                    inverses.setdefault(term, set()).add(doc_num)\n",
    "\n",
    "    with open(os.path.join(result_path, \"descriptorsSplitLancaster.txt\"), 'w', encoding='utf-8') as desc_file:\n",
    "        desc_file.write(\"\\n\".join(descriptors))\n",
    "\n",
    "    with open(os.path.join(result_path, \"inversesSplitLancaster.txt\"), 'w', encoding='utf-8') as inv_file:\n",
    "        for term, doc_nums in sorted(inverses.items()):\n",
    "            for doc_num in sorted(doc_nums):\n",
    "                inv_file.write(f\"{term} {doc_num}\\n\")\n",
    "                \n",
    "                \n",
    "    for doc_num, filename in enumerate(os.listdir(folder_path), start=1):\n",
    "        if filename.endswith(\".txt\"):\n",
    "            with open(os.path.join(folder_path, filename), 'r', encoding='utf-8') as file:\n",
    "                text = file.read().lower()  \n",
    "\n",
    "                tokens = nltk.RegexpTokenizer('(?:[A-Z]\\.)+|\\d+(?:\\.\\d+)?DA?|\\w+|\\.{3}').tokenize(text)\n",
    "                tokens = [token for token in tokens if token not in stop_words]\n",
    "                tokens = [porter.stem(token) for token in tokens]\n",
    "\n",
    "                for term in tokens:\n",
    "                    descriptors.append(f\"{doc_num} {term}\")\n",
    "                    inverses.setdefault(term, set()).add(doc_num)\n",
    "\n",
    "    with open(os.path.join(result_path, \"descriptorsTokenLancaster.txt\"), 'w', encoding='utf-8') as desc_file:\n",
    "        desc_file.write(\"\\n\".join(descriptors))\n",
    "\n",
    "    with open(os.path.join(result_path, \"inversesTokenPorter.txt\"), 'w', encoding='utf-8') as inv_file:\n",
    "        for term, doc_nums in sorted(inverses.items()):\n",
    "            for doc_num in sorted(doc_nums):\n",
    "                inv_file.write(f\"{term} {doc_num}\\n\")"
   ]
  },
  {
   "cell_type": "code",
   "execution_count": 52,
   "metadata": {},
   "outputs": [],
   "source": [
    "preprocess(folder_path)"
   ]
  }
 ],
 "metadata": {
  "kernelspec": {
   "display_name": "Python 3",
   "language": "python",
   "name": "python3"
  },
  "language_info": {
   "codemirror_mode": {
    "name": "ipython",
    "version": 3
   },
   "file_extension": ".py",
   "mimetype": "text/x-python",
   "name": "python",
   "nbconvert_exporter": "python",
   "pygments_lexer": "ipython3",
   "version": "3.12.7"
  }
 },
 "nbformat": 4,
 "nbformat_minor": 2
}
