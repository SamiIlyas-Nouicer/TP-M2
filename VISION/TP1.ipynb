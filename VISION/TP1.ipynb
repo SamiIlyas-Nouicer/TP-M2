{
 "cells": [
  {
   "cell_type": "code",
   "execution_count": 180,
   "metadata": {},
   "outputs": [],
   "source": [
    "import cv2 as cv\n",
    "import numpy as np"
   ]
  },
  {
   "cell_type": "code",
   "execution_count": 181,
   "metadata": {},
   "outputs": [],
   "source": [
    "img = cv.imread(\"pic.jpeg\")\n",
    "if img is None:\n",
    "    print(\"Could not open or find the image\")\n",
    "    exit(0)\n",
    "else:    \n",
    "    cv.imshow(\"the pic3\",img)\n",
    "    cv.waitKey(0)\n",
    "    cv.destroyAllWindows()"
   ]
  },
  {
   "cell_type": "code",
   "execution_count": 182,
   "metadata": {},
   "outputs": [],
   "source": [
    "new_img = np.zeros((img.shape[0],img.shape[1],3),np.uint16)"
   ]
  },
  {
   "cell_type": "code",
   "execution_count": 183,
   "metadata": {},
   "outputs": [],
   "source": [
    "    cv.imshow(\"the pic3\",new_img)\n",
    "    cv.waitKey(0)\n",
    "    cv.destroyAllWindows()"
   ]
  },
  {
   "cell_type": "code",
   "execution_count": 184,
   "metadata": {},
   "outputs": [
    {
     "data": {
      "text/plain": [
       "(188, 268, 3)"
      ]
     },
     "execution_count": 184,
     "metadata": {},
     "output_type": "execute_result"
    }
   ],
   "source": [
    "img.shape"
   ]
  },
  {
   "cell_type": "code",
   "execution_count": 188,
   "metadata": {},
   "outputs": [],
   "source": [
    "# for h in range(img.shape[0]):\n",
    "#     for w in range(img.shape[1]):\n",
    "#         new_img[h,w,0] = 255-img[h,w,0]\n",
    "#         new_img[h,w,1] = 255-img[h,w,1]\n",
    "#         new_img[h,w,2] = 255-img[h,w,2]\n",
    "new_img[:,:,:] = 255- img[:,:,:,] \n",
    "new_img = new_img *256\n",
    "\n",
    "new_img = new_img /65535\n",
    "cv.imshow(\"the pic3\",img)\n",
    "\n",
    "cv.imshow(\"the pic3\",new_img)\n",
    "cv.waitKey(0)\n",
    "cv.destroyAllWindows()\n",
    "\n",
    " "
   ]
  }
 ],
 "metadata": {
  "kernelspec": {
   "display_name": "visionenv",
   "language": "python",
   "name": "python3"
  },
  "language_info": {
   "codemirror_mode": {
    "name": "ipython",
    "version": 3
   },
   "file_extension": ".py",
   "mimetype": "text/x-python",
   "name": "python",
   "nbconvert_exporter": "python",
   "pygments_lexer": "ipython3",
   "version": "3.12.7"
  }
 },
 "nbformat": 4,
 "nbformat_minor": 2
}
