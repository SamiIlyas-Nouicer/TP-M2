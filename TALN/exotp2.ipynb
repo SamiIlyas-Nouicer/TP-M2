{
 "cells": [
  {
   "cell_type": "code",
   "execution_count": 6,
   "metadata": {},
   "outputs": [
    {
     "name": "stderr",
     "output_type": "stream",
     "text": [
      "[nltk_data] Downloading package reuters to /home/sami/nltk_data...\n",
      "[nltk_data]   Package reuters is already up-to-date!\n"
     ]
    }
   ],
   "source": [
    "import nltk\n",
    "nltk.download('reuters')\n",
    "from nltk.corpus import reuters\n",
    "\n",
    "# Get some documents from the Reuters corpus\n",
    "docs = reuters.fileids()[:10]  # For example, first 10 documents\n",
    "\n",
    "documents = [reuters.raw(doc_id) for doc_id in docs]\n",
    "\n",
    "# Continue preprocessing as done above, and repeat the steps for vectorization and n-gram generation.\n"
   ]
  },
  {
   "cell_type": "code",
   "execution_count": 7,
   "metadata": {},
   "outputs": [
    {
     "name": "stdout",
     "output_type": "stream",
     "text": [
      "Preprocessed Texts:  [['Albert', 'Camus', 'french', 'philosopher', 'author', 'journalist', 'know', 'contribution', 'existentialism', 'absurdism'], ['bear', 'Algeria', 'Camus', 'spend', 'life', 'explore', 'theme', 'human', 'existence', 'meaning', 'life'], ['famous', 'work', 'include', 'Stranger', 'novel', 'delve', 'absurdity', 'life', 'Myth', 'Sisyphus', 'essay', 'examine', 'existential', 'philosophy'], ['Camus', 'believe', 'life', 'inherently', 'meaningless', 'individual', 'find', 'purpose', 'embrace', 'personal', 'freedom', 'moral', 'responsibility'], ['award', 'Nobel', 'Prize', 'Literature', 'significant', 'contribution', 'literature', 'philosophy'], ['Camus', 'philosophy', 'deeply', 'influence', 'political', 'turmoil', 'time', 'particularly', 'experience', 'World', 'War', 'II', 'french', 'algerian', 'conflict'], ['associate', 'existentialism', 'Camus', 'reject', 'label', 'prefer', 'define', 'idea', 'focus', 'absurd', 'nature', 'life', 'existential', 'despair'], ['die', 'tragically', 'car', 'accident', 'leave', 'legacy', 'continue', 'influence', 'modern', 'thought', 'literature'], ['today', 'Albert', 'Camus', 'celebrate', 'exploration', 'human', 'condition', 'ethic', 'search', 'meaning', 'world', 'indifferent']]\n"
     ]
    }
   ],
   "source": [
    "import spacy\n",
    "from gensim import corpora\n",
    "\n",
    "# Load spaCy's small English model\n",
    "nlp = spacy.load(\"en_core_web_sm\")\n",
    "\n",
    "# Define your corpus of sentences\n",
    "documents = [\n",
    "    u\"Albert Camus was a French philosopher, author, and journalist, known for his contributions to existentialism and absurdism.\",\n",
    "    u\"Born in Algeria in 1913, Camus spent much of his life exploring the themes of human existence and the meaning of life.\",\n",
    "    u\"His most famous works include 'The Stranger,' a novel that delves into the absurdity of life, and 'The Myth of Sisyphus,' an essay that examines existential philosophy.\",\n",
    "    u\"Camus believed that life was inherently meaningless, but that individuals could find purpose by embracing personal freedom and moral responsibility.\",\n",
    "    u\"In 1957, he was awarded the Nobel Prize in Literature for his significant contributions to literature and philosophy.\",\n",
    "    u\"Camus' philosophy was deeply influenced by the political turmoil of his time, particularly his experiences during World War II and the French-Algerian conflict.\",\n",
    "    u\"Although often associated with existentialism, Camus rejected the label, preferring to define his own ideas, which focused more on the absurd nature of life rather than existential despair.\",\n",
    "    u\"He died tragically in a car accident in 1960, leaving behind a legacy that continues to influence modern thought and literature.\",\n",
    "    u\"Today, Albert Camus is celebrated for his exploration of the human condition, ethics, and the search for meaning in a world that often seems indifferent.\"\n",
    "]\n",
    "\n",
    "\n",
    "# Preprocess the text\n",
    "texts = []\n",
    "for document in documents:\n",
    "    text = []\n",
    "    doc = nlp(document)\n",
    "    for token in doc:\n",
    "        if not token.is_stop and not token.is_punct and not token.like_num:\n",
    "            text.append(token.lemma_)\n",
    "    texts.append(text)\n",
    "\n",
    "print(\"Preprocessed Texts: \", texts)\n"
   ]
  },
  {
   "cell_type": "code",
   "execution_count": 8,
   "metadata": {},
   "outputs": [
    {
     "name": "stdout",
     "output_type": "stream",
     "text": [
      "Dictionary Token to ID mapping:  {'Albert': 0, 'Camus': 1, 'absurdism': 2, 'author': 3, 'contribution': 4, 'existentialism': 5, 'french': 6, 'journalist': 7, 'know': 8, 'philosopher': 9, 'Algeria': 10, 'bear': 11, 'existence': 12, 'explore': 13, 'human': 14, 'life': 15, 'meaning': 16, 'spend': 17, 'theme': 18, 'Myth': 19, 'Sisyphus': 20, 'Stranger': 21, 'absurdity': 22, 'delve': 23, 'essay': 24, 'examine': 25, 'existential': 26, 'famous': 27, 'include': 28, 'novel': 29, 'philosophy': 30, 'work': 31, 'believe': 32, 'embrace': 33, 'find': 34, 'freedom': 35, 'individual': 36, 'inherently': 37, 'meaningless': 38, 'moral': 39, 'personal': 40, 'purpose': 41, 'responsibility': 42, 'Literature': 43, 'Nobel': 44, 'Prize': 45, 'award': 46, 'literature': 47, 'significant': 48, 'II': 49, 'War': 50, 'World': 51, 'algerian': 52, 'conflict': 53, 'deeply': 54, 'experience': 55, 'influence': 56, 'particularly': 57, 'political': 58, 'time': 59, 'turmoil': 60, 'absurd': 61, 'associate': 62, 'define': 63, 'despair': 64, 'focus': 65, 'idea': 66, 'label': 67, 'nature': 68, 'prefer': 69, 'reject': 70, 'accident': 71, 'car': 72, 'continue': 73, 'die': 74, 'leave': 75, 'legacy': 76, 'modern': 77, 'thought': 78, 'tragically': 79, 'celebrate': 80, 'condition': 81, 'ethic': 82, 'exploration': 83, 'indifferent': 84, 'search': 85, 'today': 86, 'world': 87}\n",
      "Bag of Words Corpus:  [[(0, 1), (1, 1), (2, 1), (3, 1), (4, 1), (5, 1), (6, 1), (7, 1), (8, 1), (9, 1)], [(1, 1), (10, 1), (11, 1), (12, 1), (13, 1), (14, 1), (15, 2), (16, 1), (17, 1), (18, 1)], [(15, 1), (19, 1), (20, 1), (21, 1), (22, 1), (23, 1), (24, 1), (25, 1), (26, 1), (27, 1), (28, 1), (29, 1), (30, 1), (31, 1)], [(1, 1), (15, 1), (32, 1), (33, 1), (34, 1), (35, 1), (36, 1), (37, 1), (38, 1), (39, 1), (40, 1), (41, 1), (42, 1)], [(4, 1), (30, 1), (43, 1), (44, 1), (45, 1), (46, 1), (47, 1), (48, 1)], [(1, 1), (6, 1), (30, 1), (49, 1), (50, 1), (51, 1), (52, 1), (53, 1), (54, 1), (55, 1), (56, 1), (57, 1), (58, 1), (59, 1), (60, 1)], [(1, 1), (5, 1), (15, 1), (26, 1), (61, 1), (62, 1), (63, 1), (64, 1), (65, 1), (66, 1), (67, 1), (68, 1), (69, 1), (70, 1)], [(47, 1), (56, 1), (71, 1), (72, 1), (73, 1), (74, 1), (75, 1), (76, 1), (77, 1), (78, 1), (79, 1)], [(0, 1), (1, 1), (14, 1), (16, 1), (80, 1), (81, 1), (82, 1), (83, 1), (84, 1), (85, 1), (86, 1), (87, 1)]]\n"
     ]
    }
   ],
   "source": [
    "# Create a Gensim dictionary from the preprocessed texts\n",
    "dictionary = corpora.Dictionary(texts)\n",
    "\n",
    "# Print out the dictionary: word-to-id mapping\n",
    "print(\"Dictionary Token to ID mapping: \", dictionary.token2id)\n",
    "\n",
    "# Convert each document to the bag-of-words format\n",
    "corpus = [dictionary.doc2bow(text) for text in texts]\n",
    "print(\"Bag of Words Corpus: \", corpus)\n"
   ]
  },
  {
   "cell_type": "code",
   "execution_count": 9,
   "metadata": {},
   "outputs": [
    {
     "name": "stdout",
     "output_type": "stream",
     "text": [
      "TF-IDF Representation:  [(0, 0.26043946397874795), (1, 0.07020856482791948), (2, 0.38046179830165694), (3, 0.38046179830165694), (4, 0.26043946397874795), (5, 0.26043946397874795), (6, 0.26043946397874795), (7, 0.38046179830165694), (8, 0.38046179830165694), (9, 0.38046179830165694)]\n",
      "TF-IDF Representation:  [(1, 0.06731057576798621), (10, 0.3647575301414525), (11, 0.3647575301414525), (12, 0.3647575301414525), (13, 0.3647575301414525), (14, 0.24968934083871247), (15, 0.26924230307194486), (16, 0.24968934083871247), (17, 0.3647575301414525), (18, 0.3647575301414525)]\n",
      "TF-IDF Representation:  [(15, 0.10719188234526751), (19, 0.290437615555719), (20, 0.290437615555719), (21, 0.290437615555719), (22, 0.290437615555719), (23, 0.290437615555719), (24, 0.290437615555719), (25, 0.290437615555719), (26, 0.19881474895049328), (27, 0.290437615555719), (28, 0.290437615555719), (29, 0.290437615555719), (30, 0.1452188077778595), (31, 0.290437615555719)]\n",
      "TF-IDF Representation:  [(1, 0.055213754566714755), (15, 0.11042750913342951), (32, 0.2992045828728432), (33, 0.2992045828728432), (34, 0.2992045828728432), (35, 0.2992045828728432), (36, 0.2992045828728432), (37, 0.2992045828728432), (38, 0.2992045828728432), (39, 0.2992045828728432), (40, 0.2992045828728432), (41, 0.2992045828728432), (42, 0.2992045828728432)]\n",
      "TF-IDF Representation:  [(4, 0.2752006643331528), (30, 0.20101281512110977), (43, 0.40202563024221954), (44, 0.40202563024221954), (45, 0.40202563024221954), (46, 0.40202563024221954), (47, 0.2752006643331528), (48, 0.40202563024221954)]\n",
      "TF-IDF Representation:  [(1, 0.05278634386100714), (6, 0.19581153858156655), (30, 0.1430251947205594), (49, 0.2860503894411188), (50, 0.2860503894411188), (51, 0.2860503894411188), (52, 0.2860503894411188), (53, 0.2860503894411188), (54, 0.2860503894411188), (55, 0.2860503894411188), (56, 0.19581153858156655), (57, 0.2860503894411188), (58, 0.2860503894411188), (59, 0.2860503894411188), (60, 0.2860503894411188)]\n",
      "TF-IDF Representation:  [(1, 0.05536967799164045), (5, 0.20539444570848442), (15, 0.1107393559832809), (26, 0.20539444570848442), (61, 0.3000495354336879), (62, 0.3000495354336879), (63, 0.3000495354336879), (64, 0.3000495354336879), (65, 0.3000495354336879), (66, 0.3000495354336879), (67, 0.3000495354336879), (68, 0.3000495354336879), (69, 0.3000495354336879), (70, 0.3000495354336879)]\n",
      "TF-IDF Representation:  [(47, 0.21715219867876123), (56, 0.21715219867876123), (71, 0.3172257950170788), (72, 0.3172257950170788), (73, 0.3172257950170788), (74, 0.3172257950170788), (75, 0.3172257950170788), (76, 0.3172257950170788), (77, 0.3172257950170788), (78, 0.3172257950170788), (79, 0.3172257950170788)]\n",
      "TF-IDF Representation:  [(0, 0.222799350752594), (1, 0.0600616451207575), (14, 0.222799350752594), (16, 0.222799350752594), (80, 0.32547541126367296), (81, 0.32547541126367296), (82, 0.32547541126367296), (83, 0.32547541126367296), (84, 0.32547541126367296), (85, 0.32547541126367296), (86, 0.32547541126367296), (87, 0.32547541126367296)]\n"
     ]
    }
   ],
   "source": [
    "from gensim import models\n",
    "\n",
    "tfidf_model = models.TfidfModel(corpus)\n",
    "\n",
    "for doc in tfidf_model[corpus]:\n",
    "    print(\"TF-IDF Representation: \", doc)\n"
   ]
  },
  {
   "cell_type": "code",
   "execution_count": 10,
   "metadata": {},
   "outputs": [
    {
     "name": "stdout",
     "output_type": "stream",
     "text": [
      "Bigrams:  [['Albert_Camus', 'french', 'philosopher', 'author', 'journalist', 'know', 'contribution', 'existentialism', 'absurdism'], ['bear', 'Algeria', 'Camus', 'spend', 'life', 'explore', 'theme', 'human', 'existence', 'meaning', 'life'], ['famous', 'work', 'include', 'Stranger', 'novel', 'delve', 'absurdity', 'life', 'Myth', 'Sisyphus', 'essay', 'examine', 'existential', 'philosophy'], ['Camus', 'believe', 'life', 'inherently', 'meaningless', 'individual', 'find', 'purpose', 'embrace', 'personal', 'freedom', 'moral', 'responsibility'], ['award', 'Nobel', 'Prize', 'Literature', 'significant', 'contribution', 'literature', 'philosophy'], ['Camus', 'philosophy', 'deeply', 'influence', 'political', 'turmoil', 'time', 'particularly', 'experience', 'World', 'War', 'II', 'french', 'algerian', 'conflict'], ['associate', 'existentialism', 'Camus', 'reject', 'label', 'prefer', 'define', 'idea', 'focus', 'absurd', 'nature', 'life', 'existential', 'despair'], ['die', 'tragically', 'car', 'accident', 'leave', 'legacy', 'continue', 'influence', 'modern', 'thought', 'literature'], ['today', 'Albert_Camus', 'celebrate', 'exploration', 'human', 'condition', 'ethic', 'search', 'meaning', 'world', 'indifferent']]\n",
      "Trigrams:  [['Albert_Camus', 'french', 'philosopher', 'author', 'journalist', 'know', 'contribution', 'existentialism', 'absurdism'], ['bear', 'Algeria', 'Camus', 'spend', 'life', 'explore', 'theme', 'human', 'existence', 'meaning', 'life'], ['famous', 'work', 'include', 'Stranger', 'novel', 'delve', 'absurdity', 'life', 'Myth', 'Sisyphus', 'essay', 'examine', 'existential', 'philosophy'], ['Camus', 'believe', 'life', 'inherently', 'meaningless', 'individual', 'find', 'purpose', 'embrace', 'personal', 'freedom', 'moral', 'responsibility'], ['award', 'Nobel', 'Prize', 'Literature', 'significant', 'contribution', 'literature', 'philosophy'], ['Camus', 'philosophy', 'deeply', 'influence', 'political', 'turmoil', 'time', 'particularly', 'experience', 'World', 'War', 'II', 'french', 'algerian', 'conflict'], ['associate', 'existentialism', 'Camus', 'reject', 'label', 'prefer', 'define', 'idea', 'focus', 'absurd', 'nature', 'life', 'existential', 'despair'], ['die', 'tragically', 'car', 'accident', 'leave', 'legacy', 'continue', 'influence', 'modern', 'thought', 'literature'], ['today', 'Albert_Camus', 'celebrate', 'exploration', 'human', 'condition', 'ethic', 'search', 'meaning', 'world', 'indifferent']]\n"
     ]
    }
   ],
   "source": [
    "import gensim\n",
    "\n",
    "# Train the bigram model on the texts\n",
    "bigram = gensim.models.Phrases(texts, min_count=1, threshold=2)\n",
    "bigram_mod = gensim.models.phrases.Phraser(bigram)\n",
    "\n",
    "# Apply the bigram model to transform the corpus\n",
    "texts_bigrams = [bigram_mod[text] for text in texts]\n",
    "print(\"Bigrams: \", texts_bigrams)\n",
    "\n",
    "# Train the trigram model on top of the bigrams\n",
    "trigram = gensim.models.Phrases(texts_bigrams, min_count=1, threshold=2)\n",
    "trigram_mod = gensim.models.phrases.Phraser(trigram)\n",
    "\n",
    "# Apply the trigram model to transform the corpus\n",
    "texts_trigrams = [trigram_mod[text] for text in texts_bigrams]\n",
    "print(\"Trigrams: \", texts_trigrams)\n"
   ]
  }
 ],
 "metadata": {
  "kernelspec": {
   "display_name": "myenv",
   "language": "python",
   "name": "python3"
  },
  "language_info": {
   "codemirror_mode": {
    "name": "ipython",
    "version": 3
   },
   "file_extension": ".py",
   "mimetype": "text/x-python",
   "name": "python",
   "nbconvert_exporter": "python",
   "pygments_lexer": "ipython3",
   "version": "3.12.7"
  }
 },
 "nbformat": 4,
 "nbformat_minor": 2
}
