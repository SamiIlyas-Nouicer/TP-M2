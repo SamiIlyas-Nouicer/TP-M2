{
 "cells": [
  {
   "cell_type": "code",
   "execution_count": 33,
   "metadata": {},
   "outputs": [
    {
     "name": "stderr",
     "output_type": "stream",
     "text": [
      "/home/sami/Desktop/TP-M2/TALN/myenv/lib/python3.12/site-packages/spacy/util.py:910: UserWarning: [W095] Model 'en_core_web_sm' (3.8.0) was trained with spaCy v3.8.0 and may not be 100% compatible with the current version (3.7.5). If you see errors or degraded performance, download a newer compatible model or retrain your custom model with the current spaCy version. For more details and available updates, run: python -m spacy validate\n",
      "  warnings.warn(warn_msg)\n"
     ]
    }
   ],
   "source": [
    "import gensim \n",
    "import spacy\n",
    "nlp = spacy.load(\"en_core_web_sm\")\n"
   ]
  },
  {
   "cell_type": "code",
   "execution_count": 34,
   "metadata": {},
   "outputs": [],
   "source": [
    "from gensim import models\n",
    "from gensim import corpora\n",
    "\n",
    "\n",
    "# documents = [u\"Football club Arsenal defeat local rivals this weekend.\",\n",
    "# u\"Weekend football frenzy takes over London.\", \n",
    "# u\"Bank open for takeover bids after losing millions.\", \n",
    "# u\"London football clubs bid to move to Wembley stadium.\", \n",
    "# u\"Arsenal bid 50 million pounds for striker Kane.\",\n",
    "# u\"Financial troubles result in loss of millions for bank.\", \n",
    "# u\"Western bank files for bankruptcy after financial losses.\", \n",
    "# u\"London football club is taken over by oil millionaire from Russia.\", \n",
    "# u\"Banking on finances not working for Russia.\",u\"new york new york was the biggest city in the world in new york\"]\n",
    "\n",
    "documents = [\n",
    "    u\"Albert Camus was a French philosopher, author, and journalist, known for his contributions to existentialism and absurdism.\",\n",
    "    u\"Born in Algeria in 1913, Camus spent much of his life exploring the themes of human existence and the meaning of life.\",\n",
    "    u\"His most famous works include 'The Stranger,' a novel that delves into the absurdity of life, and 'The Myth of Sisyphus,' an essay that examines existential philosophy.\",\n",
    "    u\"Camus believed that life was inherently meaningless, but that individuals could find purpose by embracing personal freedom and moral responsibility.\",\n",
    "    u\"In 1957, he was awarded the Nobel Prize in Literature for his significant contributions to literature and philosophy.\",\n",
    "    u\"Camus' philosophy was deeply influenced by the political turmoil of his time, particularly his experiences during World War II and the French-Algerian conflict.\",\n",
    "    u\"Although often associated with existentialism, Camus rejected the label, preferring to define his own ideas, which focused more on the absurd nature of life rather than existential despair.\",\n",
    "    u\"He died tragically in a car accident in 1960, leaving behind a legacy that continues to influence modern thought and literature.\",\n",
    "    u\"Today, Albert Camus is celebrated for his exploration of the human condition, ethics, and the search for meaning in a world that often seems indifferent.\"\n",
    "]"
   ]
  },
  {
   "cell_type": "code",
   "execution_count": 35,
   "metadata": {},
   "outputs": [
    {
     "name": "stdout",
     "output_type": "stream",
     "text": [
      "[['Albert', 'Camus', 'be', 'a', 'french', 'philosopher', 'author', 'and', 'journalist', 'know', 'for', 'his', 'contribution', 'to', 'existentialism', 'and', 'absurdism'], ['bear', 'in', 'Algeria', 'in', 'Camus', 'spend', 'much', 'of', 'his', 'life', 'explore', 'the', 'theme', 'of', 'human', 'existence', 'and', 'the', 'meaning', 'of', 'life'], ['his', 'most', 'famous', 'work', 'include', 'the', 'Stranger', 'a', 'novel', 'that', 'delve', 'into', 'the', 'absurdity', 'of', 'life', 'and', 'the', 'Myth', 'of', 'Sisyphus', 'an', 'essay', 'that', 'examine', 'existential', 'philosophy'], ['Camus', 'believe', 'that', 'life', 'be', 'inherently', 'meaningless', 'but', 'that', 'individual', 'could', 'find', 'purpose', 'by', 'embrace', 'personal', 'freedom', 'and', 'moral', 'responsibility'], ['in', 'he', 'be', 'award', 'the', 'Nobel', 'Prize', 'in', 'Literature', 'for', 'his', 'significant', 'contribution', 'to', 'literature', 'and', 'philosophy'], ['Camus', 'philosophy', 'be', 'deeply', 'influence', 'by', 'the', 'political', 'turmoil', 'of', 'his', 'time', 'particularly', 'his', 'experience', 'during', 'World', 'War', 'II', 'and', 'the', 'french', 'algerian', 'conflict'], ['although', 'often', 'associate', 'with', 'existentialism', 'Camus', 'reject', 'the', 'label', 'prefer', 'to', 'define', 'his', 'own', 'idea', 'which', 'focus', 'more', 'on', 'the', 'absurd', 'nature', 'of', 'life', 'rather', 'than', 'existential', 'despair'], ['he', 'die', 'tragically', 'in', 'a', 'car', 'accident', 'in', 'leave', 'behind', 'a', 'legacy', 'that', 'continue', 'to', 'influence', 'modern', 'thought', 'and', 'literature'], ['today', 'Albert', 'Camus', 'be', 'celebrate', 'for', 'his', 'exploration', 'of', 'the', 'human', 'condition', 'ethic', 'and', 'the', 'search', 'for', 'meaning', 'in', 'a', 'world', 'that', 'often', 'seem', 'indifferent']]\n"
     ]
    }
   ],
   "source": [
    "texts = []\n",
    "for document in documents:\n",
    "    text = []\n",
    "    doc = nlp(document)\n",
    "    for w in doc:\n",
    "        if not w.is_stop and not w.is_punct and not w.like_num:\n",
    "            text.append(w.lemma_)\n",
    "    texts.append(text)\n",
    "print(texts)\n"
   ]
  },
  {
   "cell_type": "code",
   "execution_count": 36,
   "metadata": {},
   "outputs": [
    {
     "name": "stdout",
     "output_type": "stream",
     "text": [
      "{'Albert': 0, 'Camus': 1, 'a': 2, 'absurdism': 3, 'and': 4, 'author': 5, 'be': 6, 'contribution': 7, 'existentialism': 8, 'for': 9, 'french': 10, 'his': 11, 'journalist': 12, 'know': 13, 'philosopher': 14, 'to': 15, 'Algeria': 16, 'bear': 17, 'existence': 18, 'explore': 19, 'human': 20, 'in': 21, 'life': 22, 'meaning': 23, 'much': 24, 'of': 25, 'spend': 26, 'the': 27, 'theme': 28, 'Myth': 29, 'Sisyphus': 30, 'Stranger': 31, 'absurdity': 32, 'an': 33, 'delve': 34, 'essay': 35, 'examine': 36, 'existential': 37, 'famous': 38, 'include': 39, 'into': 40, 'most': 41, 'novel': 42, 'philosophy': 43, 'that': 44, 'work': 45, 'believe': 46, 'but': 47, 'by': 48, 'could': 49, 'embrace': 50, 'find': 51, 'freedom': 52, 'individual': 53, 'inherently': 54, 'meaningless': 55, 'moral': 56, 'personal': 57, 'purpose': 58, 'responsibility': 59, 'Literature': 60, 'Nobel': 61, 'Prize': 62, 'award': 63, 'he': 64, 'literature': 65, 'significant': 66, 'II': 67, 'War': 68, 'World': 69, 'algerian': 70, 'conflict': 71, 'deeply': 72, 'during': 73, 'experience': 74, 'influence': 75, 'particularly': 76, 'political': 77, 'time': 78, 'turmoil': 79, 'absurd': 80, 'although': 81, 'associate': 82, 'define': 83, 'despair': 84, 'focus': 85, 'idea': 86, 'label': 87, 'more': 88, 'nature': 89, 'often': 90, 'on': 91, 'own': 92, 'prefer': 93, 'rather': 94, 'reject': 95, 'than': 96, 'which': 97, 'with': 98, 'accident': 99, 'behind': 100, 'car': 101, 'continue': 102, 'die': 103, 'leave': 104, 'legacy': 105, 'modern': 106, 'thought': 107, 'tragically': 108, 'celebrate': 109, 'condition': 110, 'ethic': 111, 'exploration': 112, 'indifferent': 113, 'search': 114, 'seem': 115, 'today': 116, 'world': 117}\n"
     ]
    }
   ],
   "source": [
    "dictionary = corpora.Dictionary(texts)\n",
    "corpus = [dictionary.doc2bow(text) for text in texts]\n",
    "\n",
    "print(dictionary.token2id)"
   ]
  },
  {
   "cell_type": "code",
   "execution_count": 37,
   "metadata": {},
   "outputs": [
    {
     "name": "stdout",
     "output_type": "stream",
     "text": [
      "[(0, 0.24950863716694793), (1, 0.06726186216191475), (2, 0.1345237243238295), (3, 0.3644935500100664), (4, 0.03907762296142212), (5, 0.3644935500100664), (6, 0.09750685039145497), (7, 0.24950863716694793), (8, 0.24950863716694793), (9, 0.1822467750050332), (10, 0.24950863716694793), (11, 0.041690088977573224), (12, 0.3644935500100664), (13, 0.3644935500100664), (14, 0.3644935500100664), (15, 0.1345237243238295)]\n",
      "[(1, 0.05877638683310544), (4, 0.017073876710176156), (11, 0.036430641645837446), (16, 0.31851056757828033), (17, 0.31851056757828033), (18, 0.31851056757828033), (19, 0.31851056757828033), (20, 0.21803167062224563), (21, 0.23510554733242175), (22, 0.23510554733242175), (23, 0.21803167062224563), (24, 0.31851056757828033), (25, 0.25561738137831314), (26, 0.31851056757828033), (27, 0.11755277366621088), (28, 0.31851056757828033)]\n",
      "[(2, 0.09185356462673326), (4, 0.01334121168659272), (11, 0.028466230038187004), (22, 0.09185356462673326), (25, 0.13315646483917926), (27, 0.1377803469400999), (29, 0.24887827050701436), (30, 0.24887827050701436), (31, 0.24887827050701436), (32, 0.24887827050701436), (33, 0.24887827050701436), (34, 0.24887827050701436), (35, 0.24887827050701436), (36, 0.24887827050701436), (37, 0.17036591756687383), (38, 0.24887827050701436), (39, 0.24887827050701436), (40, 0.24887827050701436), (41, 0.24887827050701436), (42, 0.24887827050701436), (43, 0.12443913525350718), (44, 0.18370712925346652), (45, 0.24887827050701436)]\n",
      "[(1, 0.04887058766726363), (4, 0.014196353902358934), (6, 0.07084575013316444), (22, 0.09774117533452727), (44, 0.19548235066905453), (46, 0.26483081819886395), (47, 0.26483081819886395), (48, 0.18128599676669563), (49, 0.26483081819886395), (50, 0.26483081819886395), (51, 0.26483081819886395), (52, 0.26483081819886395), (53, 0.26483081819886395), (54, 0.26483081819886395), (55, 0.26483081819886395), (56, 0.26483081819886395), (57, 0.26483081819886395), (58, 0.26483081819886395), (59, 0.26483081819886395)]\n",
      "[(4, 0.019307503691197058), (6, 0.09635252767081325), (7, 0.2465548601992591), (9, 0.18008926922664506), (11, 0.04119654604454659), (15, 0.13293118194522807), (21, 0.26586236389045614), (27, 0.06646559097261404), (43, 0.18008926922664506), (60, 0.3601785384532901), (61, 0.3601785384532901), (62, 0.3601785384532901), (63, 0.3601785384532901), (64, 0.2465548601992591), (65, 0.2465548601992591), (66, 0.3601785384532901)]\n",
      "[(1, 0.04927623330645192), (4, 0.014314189380255653), (6, 0.07143379850680395), (10, 0.18279074384555205), (11, 0.06108455772694466), (25, 0.07143379850680395), (27, 0.09855246661290384), (43, 0.13351451053910013), (48, 0.18279074384555205), (67, 0.26702902107820026), (68, 0.26702902107820026), (69, 0.26702902107820026), (70, 0.26702902107820026), (71, 0.26702902107820026), (72, 0.26702902107820026), (73, 0.26702902107820026), (74, 0.26702902107820026), (75, 0.18279074384555205), (76, 0.26702902107820026), (77, 0.26702902107820026), (78, 0.26702902107820026), (79, 0.26702902107820026)]\n",
      "[(1, 0.04133249194127803), (8, 0.15332334555586385), (11, 0.025618607801084645), (15, 0.08266498388255605), (22, 0.08266498388255605), (25, 0.059918072121205854), (27, 0.08266498388255605), (37, 0.15332334555586385), (80, 0.22398170722917166), (81, 0.22398170722917166), (82, 0.22398170722917166), (83, 0.22398170722917166), (84, 0.22398170722917166), (85, 0.22398170722917166), (86, 0.22398170722917166), (87, 0.22398170722917166), (88, 0.22398170722917166), (89, 0.22398170722917166), (90, 0.15332334555586385), (91, 0.22398170722917166), (92, 0.22398170722917166), (93, 0.22398170722917166), (94, 0.22398170722917166), (95, 0.22398170722917166), (96, 0.22398170722917166), (97, 0.22398170722917166), (98, 0.22398170722917166)]\n",
      "[(2, 0.20655253987682937), (4, 0.015000295144224325), (15, 0.10327626993841468), (21, 0.20655253987682937), (44, 0.10327626993841468), (64, 0.19155224473260504), (65, 0.19155224473260504), (75, 0.19155224473260504), (99, 0.2798282195267954), (100, 0.2798282195267954), (101, 0.2798282195267954), (102, 0.2798282195267954), (103, 0.2798282195267954), (104, 0.2798282195267954), (105, 0.2798282195267954), (106, 0.2798282195267954), (107, 0.2798282195267954), (108, 0.2798282195267954)]\n",
      "[(0, 0.19275155619603115), (1, 0.05196144210301288), (2, 0.10392288420602576), (4, 0.015094212216020359), (6, 0.07532643906090891), (9, 0.28158022818603656), (11, 0.03220661865505448), (20, 0.19275155619603115), (21, 0.10392288420602576), (23, 0.19275155619603115), (25, 0.07532643906090891), (27, 0.10392288420602576), (44, 0.10392288420602576), (90, 0.19275155619603115), (109, 0.28158022818603656), (110, 0.28158022818603656), (111, 0.28158022818603656), (112, 0.28158022818603656), (113, 0.28158022818603656), (114, 0.28158022818603656), (115, 0.28158022818603656), (116, 0.28158022818603656), (117, 0.28158022818603656)]\n"
     ]
    }
   ],
   "source": [
    "tfidf = models.TfidfModel(corpus)\n",
    "\n",
    "\n",
    "for document in tfidf[corpus]:\n",
    "    print(document)"
   ]
  },
  {
   "cell_type": "code",
   "execution_count": 38,
   "metadata": {},
   "outputs": [],
   "source": [
    "bigram = gensim.models.Phrases(texts)\n",
    "\n",
    "trigram= gensim.models.Phrases(texts)\n"
   ]
  },
  {
   "cell_type": "code",
   "execution_count": 39,
   "metadata": {},
   "outputs": [],
   "source": [
    "bigram_texts = [bigram[line] for line in texts]\n",
    "trigram_texts = [trigram[bigram_texts] for bigram_texts in bigram_texts]"
   ]
  },
  {
   "cell_type": "code",
   "execution_count": 40,
   "metadata": {},
   "outputs": [
    {
     "name": "stdout",
     "output_type": "stream",
     "text": [
      "\n",
      "Bigrams:\n",
      "['Albert', 'Camus', 'be', 'a', 'french', 'philosopher', 'author', 'and', 'journalist', 'know', 'for', 'his', 'contribution', 'to', 'existentialism', 'and', 'absurdism']\n",
      "['bear', 'in', 'Algeria', 'in', 'Camus', 'spend', 'much', 'of', 'his', 'life', 'explore', 'the', 'theme', 'of', 'human', 'existence', 'and', 'the', 'meaning', 'of', 'life']\n",
      "['his', 'most', 'famous', 'work', 'include', 'the', 'Stranger', 'a', 'novel', 'that', 'delve', 'into', 'the', 'absurdity', 'of', 'life', 'and', 'the', 'Myth', 'of', 'Sisyphus', 'an', 'essay', 'that', 'examine', 'existential', 'philosophy']\n",
      "['Camus', 'believe', 'that', 'life', 'be', 'inherently', 'meaningless', 'but', 'that', 'individual', 'could', 'find', 'purpose', 'by', 'embrace', 'personal', 'freedom', 'and', 'moral', 'responsibility']\n",
      "['in', 'he', 'be', 'award', 'the', 'Nobel', 'Prize', 'in', 'Literature', 'for', 'his', 'significant', 'contribution', 'to', 'literature', 'and', 'philosophy']\n",
      "['Camus', 'philosophy', 'be', 'deeply', 'influence', 'by', 'the', 'political', 'turmoil', 'of', 'his', 'time', 'particularly', 'his', 'experience', 'during', 'World', 'War', 'II', 'and', 'the', 'french', 'algerian', 'conflict']\n",
      "['although', 'often', 'associate', 'with', 'existentialism', 'Camus', 'reject', 'the', 'label', 'prefer', 'to', 'define', 'his', 'own', 'idea', 'which', 'focus', 'more', 'on', 'the', 'absurd', 'nature', 'of', 'life', 'rather', 'than', 'existential', 'despair']\n",
      "['he', 'die', 'tragically', 'in', 'a', 'car', 'accident', 'in', 'leave', 'behind', 'a', 'legacy', 'that', 'continue', 'to', 'influence', 'modern', 'thought', 'and', 'literature']\n",
      "['today', 'Albert', 'Camus', 'be', 'celebrate', 'for', 'his', 'exploration', 'of', 'the', 'human', 'condition', 'ethic', 'and', 'the', 'search', 'for', 'meaning', 'in', 'a', 'world', 'that', 'often', 'seem', 'indifferent']\n",
      "\n",
      "Trigrams:\n",
      "['Albert', 'Camus', 'be', 'a', 'french', 'philosopher', 'author', 'and', 'journalist', 'know', 'for', 'his', 'contribution', 'to', 'existentialism', 'and', 'absurdism']\n",
      "['bear', 'in', 'Algeria', 'in', 'Camus', 'spend', 'much', 'of', 'his', 'life', 'explore', 'the', 'theme', 'of', 'human', 'existence', 'and', 'the', 'meaning', 'of', 'life']\n",
      "['his', 'most', 'famous', 'work', 'include', 'the', 'Stranger', 'a', 'novel', 'that', 'delve', 'into', 'the', 'absurdity', 'of', 'life', 'and', 'the', 'Myth', 'of', 'Sisyphus', 'an', 'essay', 'that', 'examine', 'existential', 'philosophy']\n",
      "['Camus', 'believe', 'that', 'life', 'be', 'inherently', 'meaningless', 'but', 'that', 'individual', 'could', 'find', 'purpose', 'by', 'embrace', 'personal', 'freedom', 'and', 'moral', 'responsibility']\n",
      "['in', 'he', 'be', 'award', 'the', 'Nobel', 'Prize', 'in', 'Literature', 'for', 'his', 'significant', 'contribution', 'to', 'literature', 'and', 'philosophy']\n",
      "['Camus', 'philosophy', 'be', 'deeply', 'influence', 'by', 'the', 'political', 'turmoil', 'of', 'his', 'time', 'particularly', 'his', 'experience', 'during', 'World', 'War', 'II', 'and', 'the', 'french', 'algerian', 'conflict']\n",
      "['although', 'often', 'associate', 'with', 'existentialism', 'Camus', 'reject', 'the', 'label', 'prefer', 'to', 'define', 'his', 'own', 'idea', 'which', 'focus', 'more', 'on', 'the', 'absurd', 'nature', 'of', 'life', 'rather', 'than', 'existential', 'despair']\n",
      "['he', 'die', 'tragically', 'in', 'a', 'car', 'accident', 'in', 'leave', 'behind', 'a', 'legacy', 'that', 'continue', 'to', 'influence', 'modern', 'thought', 'and', 'literature']\n",
      "['today', 'Albert', 'Camus', 'be', 'celebrate', 'for', 'his', 'exploration', 'of', 'the', 'human', 'condition', 'ethic', 'and', 'the', 'search', 'for', 'meaning', 'in', 'a', 'world', 'that', 'often', 'seem', 'indifferent']\n"
     ]
    }
   ],
   "source": [
    "print(\"\\nBigrams:\")\n",
    "for text in bigram_texts:\n",
    "    print(text)\n",
    "\n",
    "print(\"\\nTrigrams:\")\n",
    "for text in trigram_texts:\n",
    "    print(text)"
   ]
  },
  {
   "cell_type": "code",
   "execution_count": 41,
   "metadata": {},
   "outputs": [
    {
     "data": {
      "text/plain": [
       "[[(0, 1),\n",
       "  (1, 1),\n",
       "  (2, 1),\n",
       "  (3, 1),\n",
       "  (4, 2),\n",
       "  (5, 1),\n",
       "  (6, 1),\n",
       "  (7, 1),\n",
       "  (8, 1),\n",
       "  (9, 1),\n",
       "  (10, 1),\n",
       "  (11, 1),\n",
       "  (12, 1),\n",
       "  (13, 1),\n",
       "  (14, 1),\n",
       "  (15, 1)],\n",
       " [(1, 1),\n",
       "  (4, 1),\n",
       "  (11, 1),\n",
       "  (16, 1),\n",
       "  (17, 1),\n",
       "  (18, 1),\n",
       "  (19, 1),\n",
       "  (20, 1),\n",
       "  (21, 2),\n",
       "  (22, 2),\n",
       "  (23, 1),\n",
       "  (24, 1),\n",
       "  (25, 3),\n",
       "  (26, 1),\n",
       "  (27, 2),\n",
       "  (28, 1)],\n",
       " [(2, 1),\n",
       "  (4, 1),\n",
       "  (11, 1),\n",
       "  (22, 1),\n",
       "  (25, 2),\n",
       "  (27, 3),\n",
       "  (29, 1),\n",
       "  (30, 1),\n",
       "  (31, 1),\n",
       "  (32, 1),\n",
       "  (33, 1),\n",
       "  (34, 1),\n",
       "  (35, 1),\n",
       "  (36, 1),\n",
       "  (37, 1),\n",
       "  (38, 1),\n",
       "  (39, 1),\n",
       "  (40, 1),\n",
       "  (41, 1),\n",
       "  (42, 1),\n",
       "  (43, 1),\n",
       "  (44, 2),\n",
       "  (45, 1)],\n",
       " [(1, 1),\n",
       "  (4, 1),\n",
       "  (6, 1),\n",
       "  (22, 1),\n",
       "  (44, 2),\n",
       "  (46, 1),\n",
       "  (47, 1),\n",
       "  (48, 1),\n",
       "  (49, 1),\n",
       "  (50, 1),\n",
       "  (51, 1),\n",
       "  (52, 1),\n",
       "  (53, 1),\n",
       "  (54, 1),\n",
       "  (55, 1),\n",
       "  (56, 1),\n",
       "  (57, 1),\n",
       "  (58, 1),\n",
       "  (59, 1)],\n",
       " [(4, 1),\n",
       "  (6, 1),\n",
       "  (7, 1),\n",
       "  (9, 1),\n",
       "  (11, 1),\n",
       "  (15, 1),\n",
       "  (21, 2),\n",
       "  (27, 1),\n",
       "  (43, 1),\n",
       "  (60, 1),\n",
       "  (61, 1),\n",
       "  (62, 1),\n",
       "  (63, 1),\n",
       "  (64, 1),\n",
       "  (65, 1),\n",
       "  (66, 1)],\n",
       " [(1, 1),\n",
       "  (4, 1),\n",
       "  (6, 1),\n",
       "  (10, 1),\n",
       "  (11, 2),\n",
       "  (25, 1),\n",
       "  (27, 2),\n",
       "  (43, 1),\n",
       "  (48, 1),\n",
       "  (67, 1),\n",
       "  (68, 1),\n",
       "  (69, 1),\n",
       "  (70, 1),\n",
       "  (71, 1),\n",
       "  (72, 1),\n",
       "  (73, 1),\n",
       "  (74, 1),\n",
       "  (75, 1),\n",
       "  (76, 1),\n",
       "  (77, 1),\n",
       "  (78, 1),\n",
       "  (79, 1)],\n",
       " [(1, 1),\n",
       "  (8, 1),\n",
       "  (11, 1),\n",
       "  (15, 1),\n",
       "  (22, 1),\n",
       "  (25, 1),\n",
       "  (27, 2),\n",
       "  (37, 1),\n",
       "  (80, 1),\n",
       "  (81, 1),\n",
       "  (82, 1),\n",
       "  (83, 1),\n",
       "  (84, 1),\n",
       "  (85, 1),\n",
       "  (86, 1),\n",
       "  (87, 1),\n",
       "  (88, 1),\n",
       "  (89, 1),\n",
       "  (90, 1),\n",
       "  (91, 1),\n",
       "  (92, 1),\n",
       "  (93, 1),\n",
       "  (94, 1),\n",
       "  (95, 1),\n",
       "  (96, 1),\n",
       "  (97, 1),\n",
       "  (98, 1)],\n",
       " [(2, 2),\n",
       "  (4, 1),\n",
       "  (15, 1),\n",
       "  (21, 2),\n",
       "  (44, 1),\n",
       "  (64, 1),\n",
       "  (65, 1),\n",
       "  (75, 1),\n",
       "  (99, 1),\n",
       "  (100, 1),\n",
       "  (101, 1),\n",
       "  (102, 1),\n",
       "  (103, 1),\n",
       "  (104, 1),\n",
       "  (105, 1),\n",
       "  (106, 1),\n",
       "  (107, 1),\n",
       "  (108, 1)],\n",
       " [(0, 1),\n",
       "  (1, 1),\n",
       "  (2, 1),\n",
       "  (4, 1),\n",
       "  (6, 1),\n",
       "  (9, 2),\n",
       "  (11, 1),\n",
       "  (20, 1),\n",
       "  (21, 1),\n",
       "  (23, 1),\n",
       "  (25, 1),\n",
       "  (27, 2),\n",
       "  (44, 1),\n",
       "  (90, 1),\n",
       "  (109, 1),\n",
       "  (110, 1),\n",
       "  (111, 1),\n",
       "  (112, 1),\n",
       "  (113, 1),\n",
       "  (114, 1),\n",
       "  (115, 1),\n",
       "  (116, 1),\n",
       "  (117, 1)]]"
      ]
     },
     "execution_count": 41,
     "metadata": {},
     "output_type": "execute_result"
    }
   ],
   "source": [
    "dictionary = corpora.Dictionary(texts)\n",
    "corpus = [dictionary.doc2bow(text) for text in texts]\n",
    "corpus"
   ]
  }
 ],
 "metadata": {
  "kernelspec": {
   "display_name": "myenv",
   "language": "python",
   "name": "python3"
  },
  "language_info": {
   "codemirror_mode": {
    "name": "ipython",
    "version": 3
   },
   "file_extension": ".py",
   "mimetype": "text/x-python",
   "name": "python",
   "nbconvert_exporter": "python",
   "pygments_lexer": "ipython3",
   "version": "3.12.7"
  }
 },
 "nbformat": 4,
 "nbformat_minor": 2
}
