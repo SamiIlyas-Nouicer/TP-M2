{
 "cells": [
  {
   "cell_type": "code",
   "execution_count": 1,
   "metadata": {},
   "outputs": [
    {
     "name": "stdout",
     "output_type": "stream",
     "text": [
      "Bigrams: ['and trigrams' 'and want' 'bigrams and' 'generate the' 'have text'\n",
      " 'text and' 'the bigrams' 'to generate' 'trigrams using' 'using python'\n",
      " 'want to']\n",
      "Trigrams: ['and trigrams using' 'and want to' 'bigrams and trigrams'\n",
      " 'generate the bigrams' 'have text and' 'text and want' 'the bigrams and'\n",
      " 'to generate the' 'trigrams using python' 'want to generate']\n"
     ]
    }
   ],
   "source": [
    "from sklearn.feature_extraction.text import CountVectorizer\n",
    "\n",
    "# Sample text\n",
    "text = [\"I have a text and I want to generate the bigrams and trigrams using Python\"]\n",
    "\n",
    "# Create the CountVectorizer for bigrams\n",
    "vectorizer_bigrams = CountVectorizer(ngram_range=(2, 2))\n",
    "bigrams = vectorizer_bigrams.fit_transform(text)\n",
    "print(\"Bigrams:\", vectorizer_bigrams.get_feature_names_out())\n",
    "\n",
    "# Create the CountVectorizer for trigrams\n",
    "vectorizer_trigrams = CountVectorizer(ngram_range=(3, 3))\n",
    "trigrams = vectorizer_trigrams.fit_transform(text)\n",
    "print(\"Trigrams:\", vectorizer_trigrams.get_feature_names_out())\n",
    "\n",
    "\n"
   ]
  }
 ],
 "metadata": {
  "kernelspec": {
   "display_name": "myenv",
   "language": "python",
   "name": "python3"
  },
  "language_info": {
   "codemirror_mode": {
    "name": "ipython",
    "version": 3
   },
   "file_extension": ".py",
   "mimetype": "text/x-python",
   "name": "python",
   "nbconvert_exporter": "python",
   "pygments_lexer": "ipython3",
   "version": "3.12.7"
  }
 },
 "nbformat": 4,
 "nbformat_minor": 2
}
