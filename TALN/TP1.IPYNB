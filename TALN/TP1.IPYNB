{
 "cells": [
  {
   "cell_type": "code",
   "execution_count": 40,
   "metadata": {},
   "outputs": [],
   "source": [
    "import spacy\n",
    "from collections import Counter\n",
    "import string\n",
    "\n",
    "nlp = spacy.load(\"en_core_web_sm\")\n",
    "\n"
   ]
  },
  {
   "cell_type": "code",
   "execution_count": 41,
   "metadata": {},
   "outputs": [],
   "source": [
    "import spacy\n",
    "from collections import Counter\n",
    "import string\n",
    "\n",
    "# Load the spaCy English model\n",
    "nlp = spacy.load(\"en_core_web_sm\")\n",
    "\n",
    "def preprocess_text(text):\n",
    "    text = text.lower()\n",
    "    doc = nlp(text)\n",
    "    # Remove punctuation and stop words\n",
    "    tokens = [token for token in doc if token.text not in string.punctuation and not token.is_stop and not token.is_space]\n",
    "    \n",
    "\n",
    "    word_freq = Counter(token.text for token in tokens)\n",
    "    \n",
    "    freq_threshold = 4\n",
    "    rare_threshold = 1\n",
    "    # remove rare and frequent words\n",
    "    tokens = [token for token in tokens if rare_threshold < word_freq[token.text] < freq_threshold]\n",
    "\n",
    "    \n",
    "    lemmatized_tokens = [token.lemma_ for token in tokens]\n",
    "    preprocessed_text = \" \".join(lemmatized_tokens)\n",
    "\n",
    "    return preprocessed_text\n",
    "\n",
    "\n"
   ]
  },
  {
   "cell_type": "code",
   "execution_count": 43,
   "metadata": {},
   "outputs": [
    {
     "name": "stdout",
     "output_type": "stream",
     "text": [
      "Preprocessed Text:\n",
      " quiet town willow creek bookstore bookstore fill people walk book adventure story story mrs thompson storytelling cozy reading mrs thompson read tale fill book storytelling people love reading cozy story mrs thompson read tale bring bring fill adventure quiet town willow creek bookstore story walk love reading\n"
     ]
    }
   ],
   "source": [
    "text = \"\"\"In the quiet town of Willow Creek, there was a little bookstore named \"The Book Nook.\" The Book Nook was not just any bookstore; it was a sanctuary for book lovers. Every day, the door of The Book Nook would swing open, welcoming visitors with a gentle chime. The scent of old pages and fresh coffee filled the air, creating an atmosphere that invited people to stay a while.\n",
    "\n",
    "As you walked through the aisles of The Book Nook, you would find shelves lined with books of all kinds: mysteries, romances, thrillers, and adventures. Each book told a story, and each story had the power to transport readers to different worlds. Many locals would stop by The Book Nook to browse the latest arrivals or to chat with the friendly owner, Mrs. Thompson. She was known for her vast knowledge of literature and her ability to recommend the perfect book for every reader.\n",
    "\n",
    "Children loved The Book Nook, too. Every Saturday, a storytelling hour would take place in the cozy reading corner. Kids would gather around as Mrs. Thompson read enchanting tales of dragons, fairies, and brave heroes. Laughter and excitement filled the room, and for that brief moment, the world outside faded away.\n",
    "\n",
    "But what made The Book Nook truly special was not just the books or the storytelling; it was the community that formed around it. People would come together to share their love of reading, participate in book clubs, and attend author signings. The Book Nook became a place where friendships blossomed and memories were made.\n",
    "\n",
    "As the seasons changed, The Book Nook adapted to the moods of the year. In the fall, it would host cozy evenings with hot cider and spooky stories. During the winter holidays, the shop would be adorned with twinkling lights, and Mrs. Thompson would read festive tales that brought warmth to the cold nights. Spring brought new beginnings, and summer was filled with adventures waiting to be discovered.\n",
    "\n",
    "In the quiet town of Willow Creek, The Book Nook was more than just a bookstore; it was a beloved gathering place. The stories held within its walls were a reflection of the lives of those who walked through its doors. It was a place where imagination thrived, and the love of reading flourished.\"\"\"\n",
    "\n",
    "preprocessed_text = preprocess_text(text)\n",
    "\n",
    "print(\"Preprocessed Text:\\n\", preprocessed_text)\n"
   ]
  },
  {
   "cell_type": "code",
   "execution_count": null,
   "metadata": {},
   "outputs": [],
   "source": []
  }
 ],
 "metadata": {
  "kernelspec": {
   "display_name": "Python 3",
   "language": "python",
   "name": "python3"
  },
  "language_info": {
   "codemirror_mode": {
    "name": "ipython",
    "version": 3
   },
   "file_extension": ".py",
   "mimetype": "text/x-python",
   "name": "python",
   "nbconvert_exporter": "python",
   "pygments_lexer": "ipython3",
   "version": "3.12.7"
  }
 },
 "nbformat": 4,
 "nbformat_minor": 2
}
